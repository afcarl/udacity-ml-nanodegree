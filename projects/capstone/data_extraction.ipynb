{
 "cells": [
  {
   "cell_type": "markdown",
   "metadata": {},
   "source": [
    "# Dataset download\n",
    "\n",
    "First of all, data will be downloaded from the source URL. Three datasets are included in the source:\n",
    "\n",
    "* Train (http://ufldl.stanford.edu/housenumbers/train.tar.gz)\n",
    "* Test  (http://ufldl.stanford.edu/housenumbers/test.tar.gz)\n",
    "* Extra (http://ufldl.stanford.edu/housenumbers/extra.tar.gz)\n",
    "\n",
    "\n",
    "They will all be downloaded independently."
   ]
  },
  {
   "cell_type": "code",
   "execution_count": 3,
   "metadata": {
    "collapsed": false
   },
   "outputs": [],
   "source": [
    "sources = {\n",
    "    'train': \n",
    "    {'url':'http://ufldl.stanford.edu/housenumbers/train.tar.gz',\n",
    "     'bytes':404141560\n",
    "    }\n",
    "    ,\n",
    "    'test':\n",
    "    {'url':'http://ufldl.stanford.edu/housenumbers/test.tar.gz',\n",
    "     'bytes': 276555967\n",
    "    }\n",
    "    ,\n",
    "    'extra':\n",
    "    {'url':'http://ufldl.stanford.edu/housenumbers/extra.tar.gz',\n",
    "     'bytes': 1955489752\n",
    "    }\n",
    "}"
   ]
  },
  {
   "cell_type": "code",
   "execution_count": 4,
   "metadata": {
    "collapsed": false
   },
   "outputs": [],
   "source": [
    "from urlparse import urlparse\n",
    "from os.path import basename\n",
    "import urllib\n",
    "import sys, os\n",
    "\n",
    "\n",
    "last_percent_reported = None\n",
    "def download_progress_hook(count, blockSize, totalSize):\n",
    "  \"\"\"A hook to report the progress of a download. This is mostly intended for users with\n",
    "  slow internet connections. Reports every 1% change in download progress.\n",
    "  \"\"\"\n",
    "  global last_percent_reported\n",
    "  percent = int(count * blockSize * 100 / totalSize)\n",
    "\n",
    "  if last_percent_reported != percent:\n",
    "    if percent % 5 == 0:\n",
    "      sys.stdout.write(\"%s%%\" % percent)\n",
    "      sys.stdout.flush()\n",
    "    else:\n",
    "      sys.stdout.write(\".\")\n",
    "      sys.stdout.flush()\n",
    "      \n",
    "    last_percent_reported = percent\n",
    "\n",
    "def extract_filename(url):\n",
    "    return basename(urlparse(url).path)\n",
    "    \n",
    "def download(url, filename, expected_bytes, force=False):\n",
    "    \"\"\"Download a file if not present, and make sure it's the right size.\"\"\"\n",
    "    if force or not os.path.exists(filename):\n",
    "        print('Attempting to download:', filename) \n",
    "        filename, _ = urlretrieve(url, filename, reporthook=download_progress_hook)\n",
    "        print('\\nDownload Complete!')\n",
    "    statinfo = os.stat(filename)\n",
    "    if statinfo.st_size == expected_bytes:\n",
    "        print('Found and verified', filename)\n",
    "    else:\n",
    "        raise Exception('Failed to verify ' + filename + \n",
    "            '. Can you get to it with a browser?')"
   ]
  },
  {
   "cell_type": "code",
   "execution_count": 5,
   "metadata": {
    "collapsed": false
   },
   "outputs": [
    {
     "name": "stdout",
     "output_type": "stream",
     "text": [
      "('Found and verified', 'test.tar.gz')\n",
      "('Found and verified', 'train.tar.gz')\n",
      "('Found and verified', 'extra.tar.gz')\n"
     ]
    }
   ],
   "source": [
    "for _, source in sources.iteritems():\n",
    "    source['filename'] = extract_filename(source['url'])\n",
    "    download(source['url'], source['filename'], source['bytes'])"
   ]
  },
  {
   "cell_type": "markdown",
   "metadata": {},
   "source": [
    "## Data extraction"
   ]
  },
  {
   "cell_type": "code",
   "execution_count": 6,
   "metadata": {
    "collapsed": true
   },
   "outputs": [],
   "source": [
    "import tarfile\n",
    "\n",
    "def extract(filename, force=False):\n",
    "    root = os.path.splitext(os.path.splitext(filename)[0])[0]  # remove .tar.gz\n",
    "    if os.path.isdir(root) and not force:\n",
    "        print('%s already present - Skipping extraction of %s.' % (root, filename))\n",
    "    else:\n",
    "        print('Extracting data for %s. This may take a while. Please wait.' % root)\n",
    "        tar = tarfile.open(filename)\n",
    "        sys.stdout.flush()\n",
    "        tar.extractall()\n",
    "        tar.close()\n",
    "    return root"
   ]
  },
  {
   "cell_type": "code",
   "execution_count": 8,
   "metadata": {
    "collapsed": false,
    "scrolled": true
   },
   "outputs": [
    {
     "name": "stdout",
     "output_type": "stream",
     "text": [
      "test already present - Skipping extraction of test.tar.gz.\n",
      "train already present - Skipping extraction of train.tar.gz.\n",
      "extra already present - Skipping extraction of extra.tar.gz.\n"
     ]
    }
   ],
   "source": [
    "for _, source in sources.iteritems():\n",
    "    source['folder'] = extract(source['filename'])"
   ]
  },
  {
   "cell_type": "markdown",
   "metadata": {},
   "source": [
    "## Data serialization"
   ]
  },
  {
   "cell_type": "code",
   "execution_count": 10,
   "metadata": {
    "collapsed": true
   },
   "outputs": [],
   "source": [
    "import pickle\n",
    "pickle.dump(sources, open('sources.p', 'wb'))"
   ]
  }
 ],
 "metadata": {
  "kernelspec": {
   "display_name": "Python 2",
   "language": "python",
   "name": "python2"
  },
  "language_info": {
   "codemirror_mode": {
    "name": "ipython",
    "version": 2
   },
   "file_extension": ".py",
   "mimetype": "text/x-python",
   "name": "python",
   "nbconvert_exporter": "python",
   "pygments_lexer": "ipython2",
   "version": "2.7.11"
  }
 },
 "nbformat": 4,
 "nbformat_minor": 1
}
