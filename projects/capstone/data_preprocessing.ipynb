{
 "cells": [
  {
   "cell_type": "code",
   "execution_count": 299,
   "metadata": {
    "collapsed": false
   },
   "outputs": [],
   "source": [
    "import os\n",
    "import pickle\n",
    "import numpy as np\n",
    "from PIL import Image\n",
    "import matplotlib.pyplot as plt\n",
    "# Config the matplotlib backend as plotting inline in IPython\n",
    "%matplotlib inline"
   ]
  },
  {
   "cell_type": "code",
   "execution_count": 300,
   "metadata": {
    "collapsed": false
   },
   "outputs": [],
   "source": [
    "img_height = 28\n",
    "img_width  = 28\n",
    "img_depth  = 1\n",
    "\n",
    "dataset = pickle.load(open('dataset.pickle', 'rb'))\n",
    "train_dataset = dataset['train']\n",
    "test_dataset  = dataset['test']\n",
    "valid_dataset = dataset['valid']\n",
    "extra_dataset = dataset['extra']"
   ]
  },
  {
   "cell_type": "code",
   "execution_count": 301,
   "metadata": {
    "collapsed": false
   },
   "outputs": [],
   "source": [
    "def image_number_edges(tops, heights, widths, lefts):\n",
    "    x1 = np.amin(lefts)\n",
    "    y1 = np.amin(tops)\n",
    "    x2 = np.amax(np.add(lefts, widths))\n",
    "    y2 = np.amax(np.add(tops, heights))\n",
    "    return (int(x1),int(y1),int(x2),int(y2))\n",
    "\n",
    "def process_image(image, edges):    \n",
    "    image = image.crop(edges).resize((img_width,img_height))\n",
    "    image = np.asarray(image)\n",
    "    image = np.average( (image.astype(float) - pixel_depth / 2) / pixel_depth , axis=2)\n",
    "    return image\n",
    "\n",
    "def load_image(folder, filename):\n",
    "    return Image.open(\"%s/%s\" % (folder, filename))\n",
    "\n",
    "def create_arrays(num_samples):\n",
    "    input_dataset = np.ndarray((num_samples, img_height, img_width), dtype=np.float32)\n",
    "    label_dataset = np.ndarray((num_samples, 6), dtype=np.int32)\n",
    "    return input_dataset, label_dataset"
   ]
  },
  {
   "cell_type": "markdown",
   "metadata": {},
   "source": [
    "## Datasets generation"
   ]
  },
  {
   "cell_type": "code",
   "execution_count": 343,
   "metadata": {
    "collapsed": false
   },
   "outputs": [],
   "source": [
    "def generate_input_output(dataset, images_folder):\n",
    "    \n",
    "    images = dataset['images']\n",
    "    labels = dataset['labels']\n",
    "    tops = dataset['tops']\n",
    "    heights = dataset['heights']\n",
    "    lefts = dataset['lefts']\n",
    "    widths = dataset['widths']\n",
    "\n",
    "    dataset_size = len(images)\n",
    "    inputs, outputs = create_arrays(dataset_size)\n",
    "    \n",
    "    for i in range(dataset_size):\n",
    "        if i%5000 == 0: print(i, \"elapsed out of \", dataset_size, \"for: \", images_folder)\n",
    "        img = load_image(images_folder, images[i])\n",
    "        d_count = labels[i][labels[i] != 0].shape[0]\n",
    "        edges = image_number_edges(tops[i][:d_count], heights[i][:d_count], lefts[i][:d_count]+20, widths[i][:d_count])\n",
    "        img_array = process_image(img, edges)\n",
    "        inputs[i] = img_array\n",
    "        outputs[i] = labels[i]        \n",
    "#        if i==11:\n",
    "#            print edges\n",
    "#            print tops[i], heights[i], lefts[i], widths[i]\n",
    "#            print d_count\n",
    "#            img.show()\n",
    "#            plt.imshow(img_array, cmap='gray')\n",
    "#            plt.show()        \n",
    "    return inputs, outputs"
   ]
  },
  {
   "cell_type": "code",
   "execution_count": 344,
   "metadata": {
    "collapsed": false
   },
   "outputs": [
    {
     "name": "stdout",
     "output_type": "stream",
     "text": [
      "(0, 'elapsed out of ', 33402, 'for: ', 'train')\n",
      "(5000, 'elapsed out of ', 33402, 'for: ', 'train')\n",
      "(10000, 'elapsed out of ', 33402, 'for: ', 'train')\n",
      "(15000, 'elapsed out of ', 33402, 'for: ', 'train')\n",
      "(20000, 'elapsed out of ', 33402, 'for: ', 'train')\n",
      "(25000, 'elapsed out of ', 33402, 'for: ', 'train')\n",
      "(30000, 'elapsed out of ', 33402, 'for: ', 'train')\n",
      "(0, 'elapsed out of ', 13068, 'for: ', 'test')\n",
      "(5000, 'elapsed out of ', 13068, 'for: ', 'test')\n",
      "(10000, 'elapsed out of ', 13068, 'for: ', 'test')\n",
      "(0, 'elapsed out of ', 2000, 'for: ', 'extra')\n",
      "(0, 'elapsed out of ', 125000, 'for: ', 'extra')\n",
      "(5000, 'elapsed out of ', 125000, 'for: ', 'extra')\n",
      "(10000, 'elapsed out of ', 125000, 'for: ', 'extra')\n",
      "(15000, 'elapsed out of ', 125000, 'for: ', 'extra')\n",
      "(20000, 'elapsed out of ', 125000, 'for: ', 'extra')\n",
      "(25000, 'elapsed out of ', 125000, 'for: ', 'extra')\n",
      "(30000, 'elapsed out of ', 125000, 'for: ', 'extra')\n",
      "(35000, 'elapsed out of ', 125000, 'for: ', 'extra')\n",
      "(40000, 'elapsed out of ', 125000, 'for: ', 'extra')\n",
      "(45000, 'elapsed out of ', 125000, 'for: ', 'extra')\n",
      "(50000, 'elapsed out of ', 125000, 'for: ', 'extra')\n",
      "(55000, 'elapsed out of ', 125000, 'for: ', 'extra')\n",
      "(60000, 'elapsed out of ', 125000, 'for: ', 'extra')\n",
      "(65000, 'elapsed out of ', 125000, 'for: ', 'extra')\n",
      "(70000, 'elapsed out of ', 125000, 'for: ', 'extra')\n",
      "(75000, 'elapsed out of ', 125000, 'for: ', 'extra')\n",
      "(80000, 'elapsed out of ', 125000, 'for: ', 'extra')\n",
      "(85000, 'elapsed out of ', 125000, 'for: ', 'extra')\n",
      "(90000, 'elapsed out of ', 125000, 'for: ', 'extra')\n",
      "(95000, 'elapsed out of ', 125000, 'for: ', 'extra')\n",
      "(100000, 'elapsed out of ', 125000, 'for: ', 'extra')\n",
      "(105000, 'elapsed out of ', 125000, 'for: ', 'extra')\n",
      "(110000, 'elapsed out of ', 125000, 'for: ', 'extra')\n",
      "(115000, 'elapsed out of ', 125000, 'for: ', 'extra')\n",
      "(120000, 'elapsed out of ', 125000, 'for: ', 'extra')\n"
     ]
    }
   ],
   "source": [
    "train_data, train_labels = generate_input_output(train_dataset, 'train')\n",
    "test_data, test_labels   = generate_input_output(test_dataset, 'test')\n",
    "valid_data, valid_labels = generate_input_output(valid_dataset, 'extra')\n",
    "extra_data, extra_labels = generate_input_output(extra_dataset, 'extra')"
   ]
  },
  {
   "cell_type": "markdown",
   "metadata": {},
   "source": [
    "### Serialization"
   ]
  },
  {
   "cell_type": "code",
   "execution_count": 346,
   "metadata": {
    "collapsed": false
   },
   "outputs": [],
   "source": [
    "def maybe_pickle(filename, force=False):\n",
    "    if os.path.exists(filename + '.pickle') and not force:\n",
    "        print('%s already present - Skipping pickling.' % filename)\n",
    "    else:\n",
    "        print('Pickling %s.pickle' % filename)\n",
    "        dataset = {\n",
    "            'train': {'data':train_data, 'labels':train_labels},\n",
    "            'test':  {'data':test_data, 'labels':test_labels},\n",
    "            'extra': {'data':extra_data, 'labels':extra_labels},\n",
    "            'valid': {'data':valid_data, 'labels':valid_labels}\n",
    "        }\n",
    "        try:\n",
    "            with open( filename + '.pickle', 'wb') as f:\n",
    "                pickle.dump(dataset, f, pickle.HIGHEST_PROTOCOL)\n",
    "        except Exception as e:\n",
    "            print('Unable to save data to %s.pickle' % filename, ':', e)"
   ]
  },
  {
   "cell_type": "code",
   "execution_count": 347,
   "metadata": {
    "collapsed": false
   },
   "outputs": [
    {
     "name": "stdout",
     "output_type": "stream",
     "text": [
      "Pickling svhn_tf.pickle\n"
     ]
    }
   ],
   "source": [
    "maybe_pickle('svhn_tf')"
   ]
  }
 ],
 "metadata": {
  "kernelspec": {
   "display_name": "Python 2",
   "language": "python",
   "name": "python2"
  },
  "language_info": {
   "codemirror_mode": {
    "name": "ipython",
    "version": 2
   },
   "file_extension": ".py",
   "mimetype": "text/x-python",
   "name": "python",
   "nbconvert_exporter": "python",
   "pygments_lexer": "ipython2",
   "version": "2.7.11"
  }
 },
 "nbformat": 4,
 "nbformat_minor": 1
}
