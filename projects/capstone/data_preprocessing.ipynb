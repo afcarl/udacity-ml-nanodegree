{
 "cells": [
  {
   "cell_type": "code",
   "execution_count": 54,
   "metadata": {
    "collapsed": true
   },
   "outputs": [],
   "source": [
    "import pickle\n",
    "sources = pickle.load(open('sources.p', 'rb'))"
   ]
  },
  {
   "cell_type": "code",
   "execution_count": 55,
   "metadata": {
    "collapsed": false
   },
   "outputs": [],
   "source": [
    "from PIL import Image\n",
    "\n",
    "di\n",
    "img = Image.open(\"train/1.png\")\n",
    "\n",
    "import numpy as np\n",
    "def number_edges(digit):\n",
    "    \n",
    "    x1 = int(np.amin(digit['left']))\n",
    "    y1 = int(np.amin(digit['top']))\n",
    "    x2 = int(np.amax(np.add(digit['left'],digit['width'])))\n",
    "    y2 = int(np.amax(np.add(digit['top'],digit['height'])))\n",
    "    \n",
    "    return (x1,y1,x2,y2)"
   ]
  },
  {
   "cell_type": "code",
   "execution_count": 56,
   "metadata": {
    "collapsed": false
   },
   "outputs": [
    {
     "name": "stdout",
     "output_type": "stream",
     "text": [
      "(77, 25, 124, 61)\n"
     ]
    }
   ],
   "source": [
    "d = sources['train']['digit_struct'][1]\n",
    "ne = number_edges(d)\n",
    "print ne"
   ]
  },
  {
   "cell_type": "code",
   "execution_count": 57,
   "metadata": {
    "collapsed": false
   },
   "outputs": [],
   "source": [
    "img.crop(ne).save('t3s7.png')"
   ]
  },
  {
   "cell_type": "code",
   "execution_count": null,
   "metadata": {
    "collapsed": true
   },
   "outputs": [],
   "source": []
  }
 ],
 "metadata": {
  "kernelspec": {
   "display_name": "Python 2",
   "language": "python",
   "name": "python2"
  },
  "language_info": {
   "codemirror_mode": {
    "name": "ipython",
    "version": 2
   },
   "file_extension": ".py",
   "mimetype": "text/x-python",
   "name": "python",
   "nbconvert_exporter": "python",
   "pygments_lexer": "ipython2",
   "version": "2.7.11"
  }
 },
 "nbformat": 4,
 "nbformat_minor": 1
}
