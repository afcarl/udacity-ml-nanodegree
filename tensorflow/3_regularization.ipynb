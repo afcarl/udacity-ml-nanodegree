{
 "cells": [
  {
   "cell_type": "markdown",
   "metadata": {
    "colab_type": "text",
    "id": "kR-4eNdK6lYS"
   },
   "source": [
    "Deep Learning\n",
    "=============\n",
    "\n",
    "Assignment 3\n",
    "------------\n",
    "\n",
    "Previously in `2_fullyconnected.ipynb`, you trained a logistic regression and a neural network model.\n",
    "\n",
    "The goal of this assignment is to explore regularization techniques."
   ]
  },
  {
   "cell_type": "code",
   "execution_count": 105,
   "metadata": {
    "cellView": "both",
    "colab": {
     "autoexec": {
      "startup": false,
      "wait_interval": 0
     }
    },
    "colab_type": "code",
    "collapsed": true,
    "id": "JLpLa8Jt7Vu4"
   },
   "outputs": [],
   "source": [
    "# These are all the modules we'll be using later. Make sure you can import them\n",
    "# before proceeding further.\n",
    "from __future__ import print_function\n",
    "import numpy as np\n",
    "import tensorflow as tf\n",
    "from six.moves import cPickle as pickle"
   ]
  },
  {
   "cell_type": "markdown",
   "metadata": {
    "colab_type": "text",
    "id": "1HrCK6e17WzV"
   },
   "source": [
    "First reload the data we generated in _notmist.ipynb_."
   ]
  },
  {
   "cell_type": "code",
   "execution_count": 106,
   "metadata": {
    "cellView": "both",
    "colab": {
     "autoexec": {
      "startup": false,
      "wait_interval": 0
     },
     "output_extras": [
      {
       "item_id": 1
      }
     ]
    },
    "colab_type": "code",
    "collapsed": false,
    "executionInfo": {
     "elapsed": 11777,
     "status": "ok",
     "timestamp": 1449849322348,
     "user": {
      "color": "",
      "displayName": "",
      "isAnonymous": false,
      "isMe": true,
      "permissionId": "",
      "photoUrl": "",
      "sessionId": "0",
      "userId": ""
     },
     "user_tz": 480
    },
    "id": "y3-cj1bpmuxc",
    "outputId": "e03576f1-ebbe-4838-c388-f1777bcc9873"
   },
   "outputs": [
    {
     "name": "stdout",
     "output_type": "stream",
     "text": [
      "Training set (200000, 28, 28) (200000,)\n",
      "Validation set (10000, 28, 28) (10000,)\n",
      "Test set (10000, 28, 28) (10000,)\n"
     ]
    }
   ],
   "source": [
    "pickle_file = 'notMNIST.pickle'\n",
    "\n",
    "with open(pickle_file, 'rb') as f:\n",
    "  save = pickle.load(f)\n",
    "  train_dataset = save['train_dataset']\n",
    "  train_labels = save['train_labels']\n",
    "  valid_dataset = save['valid_dataset']\n",
    "  valid_labels = save['valid_labels']\n",
    "  test_dataset = save['test_dataset']\n",
    "  test_labels = save['test_labels']\n",
    "  del save  # hint to help gc free up memory\n",
    "  print('Training set', train_dataset.shape, train_labels.shape)\n",
    "  print('Validation set', valid_dataset.shape, valid_labels.shape)\n",
    "  print('Test set', test_dataset.shape, test_labels.shape)"
   ]
  },
  {
   "cell_type": "markdown",
   "metadata": {
    "colab_type": "text",
    "id": "L7aHrm6nGDMB"
   },
   "source": [
    "Reformat into a shape that's more adapted to the models we're going to train:\n",
    "- data as a flat matrix,\n",
    "- labels as float 1-hot encodings."
   ]
  },
  {
   "cell_type": "code",
   "execution_count": 107,
   "metadata": {
    "cellView": "both",
    "colab": {
     "autoexec": {
      "startup": false,
      "wait_interval": 0
     },
     "output_extras": [
      {
       "item_id": 1
      }
     ]
    },
    "colab_type": "code",
    "collapsed": false,
    "executionInfo": {
     "elapsed": 11728,
     "status": "ok",
     "timestamp": 1449849322356,
     "user": {
      "color": "",
      "displayName": "",
      "isAnonymous": false,
      "isMe": true,
      "permissionId": "",
      "photoUrl": "",
      "sessionId": "0",
      "userId": ""
     },
     "user_tz": 480
    },
    "id": "IRSyYiIIGIzS",
    "outputId": "3f8996ee-3574-4f44-c953-5c8a04636582"
   },
   "outputs": [
    {
     "name": "stdout",
     "output_type": "stream",
     "text": [
      "Training set (200000, 784) (200000, 10)\n",
      "Validation set (10000, 784) (10000, 10)\n",
      "Test set (10000, 784) (10000, 10)\n"
     ]
    }
   ],
   "source": [
    "image_size = 28\n",
    "num_labels = 10\n",
    "\n",
    "def reformat(dataset, labels):\n",
    "  dataset = dataset.reshape((-1, image_size * image_size)).astype(np.float32)\n",
    "  # Map 1 to [0.0, 1.0, 0.0 ...], 2 to [0.0, 0.0, 1.0 ...]\n",
    "  labels = (np.arange(num_labels) == labels[:,None]).astype(np.float32)\n",
    "  return dataset, labels\n",
    "train_dataset, train_labels = reformat(train_dataset, train_labels)\n",
    "valid_dataset, valid_labels = reformat(valid_dataset, valid_labels)\n",
    "test_dataset, test_labels = reformat(test_dataset, test_labels)\n",
    "print('Training set', train_dataset.shape, train_labels.shape)\n",
    "print('Validation set', valid_dataset.shape, valid_labels.shape)\n",
    "print('Test set', test_dataset.shape, test_labels.shape)"
   ]
  },
  {
   "cell_type": "code",
   "execution_count": 108,
   "metadata": {
    "cellView": "both",
    "colab": {
     "autoexec": {
      "startup": false,
      "wait_interval": 0
     }
    },
    "colab_type": "code",
    "collapsed": true,
    "id": "RajPLaL_ZW6w"
   },
   "outputs": [],
   "source": [
    "def accuracy(predictions, labels):\n",
    "  return (100.0 * np.sum(np.argmax(predictions, 1) == np.argmax(labels, 1))\n",
    "          / predictions.shape[0])"
   ]
  },
  {
   "cell_type": "markdown",
   "metadata": {
    "colab_type": "text",
    "id": "sgLbUAQ1CW-1"
   },
   "source": [
    "---\n",
    "Problem 1\n",
    "---------\n",
    "\n",
    "Introduce and tune L2 regularization for both logistic and neural network models. Remember that L2 amounts to adding a penalty on the norm of the weights to the loss. In TensorFlow, you can compute the L2 loss for a tensor `t` using `nn.l2_loss(t)`. The right amount of regularization should improve your validation / test accuracy.\n",
    "\n",
    "---"
   ]
  },
  {
   "cell_type": "code",
   "execution_count": 109,
   "metadata": {
    "collapsed": false
   },
   "outputs": [],
   "source": [
    "batch_size = 128\n",
    "\n",
    "n_input = image_size * image_size\n",
    "n_hidden_1 = 1024\n",
    "\n",
    "learning_rate = 0.5\n",
    "\n",
    "graph = tf.Graph()\n",
    "with graph.as_default():\n",
    "    \n",
    "    x = tf.placeholder(tf.float32, [batch_size, n_input])\n",
    "    y_ = tf.placeholder(tf.float32, [batch_size, num_labels])\n",
    "    \n",
    "    beta = tf.placeholder(tf.float32)\n",
    "    \n",
    "    weights = {\n",
    "        'h1' : tf.Variable(tf.truncated_normal([n_input, n_hidden_1])),\n",
    "        'out' : tf.Variable(tf.truncated_normal([n_hidden_1, num_labels]))\n",
    "    }\n",
    "    \n",
    "    biases = {\n",
    "        'h1' : tf.Variable(tf.zeros([n_hidden_1])),\n",
    "        'out' : tf.Variable(tf.zeros([num_labels]))\n",
    "    }\n",
    "    \n",
    "    hidden_1 = tf.matmul(x, weights['h1']) + biases['h1']\n",
    "    hidden_1 = tf.nn.relu(hidden_1)\n",
    "    \n",
    "    out_l = tf.matmul(hidden_1, weights['out']) + biases['out']\n",
    "    \n",
    "    reg = beta/2 * (tf.nn.l2_loss(weights['h1']) + tf.nn.l2_loss(biases['h1']) + tf.nn.l2_loss(weights['out'])+ tf.nn.l2_loss(biases['out']))\n",
    "    \n",
    "    loss = tf.reduce_mean(tf.nn.softmax_cross_entropy_with_logits(out_l, y_) +  reg)\n",
    "    optimizer = tf.train.GradientDescentOptimizer(learning_rate=learning_rate).minimize(loss)\n",
    "    \n",
    "    train_prediction = tf.nn.softmax(out_l)\n",
    "    \n",
    "    tf_test_dataset = tf.constant(test_dataset)\n",
    "    tf_valid_dataset = tf.constant(valid_dataset)\n",
    "    \n",
    "    valid_prediction = tf.nn.softmax(\n",
    "\n",
    "        tf.matmul(\n",
    "            tf.nn.relu(\n",
    "                tf.matmul(tf_valid_dataset, weights['h1']) + biases['h1']\n",
    "            ), weights['out']\n",
    "        ) + biases['out']\n",
    "    )\n",
    "    \n",
    "    test_prediction = tf.nn.softmax(\n",
    "\n",
    "        tf.matmul(\n",
    "            tf.nn.relu(\n",
    "                tf.matmul(tf_test_dataset, weights['h1']) + biases['h1']\n",
    "            ), weights['out']\n",
    "        ) + biases['out']\n",
    "    )\n",
    "    "
   ]
  },
  {
   "cell_type": "code",
   "execution_count": 110,
   "metadata": {
    "collapsed": false
   },
   "outputs": [],
   "source": [
    "def train(num_steps, reg_rate):\n",
    "    tf.set_random_seed(27)\n",
    "    with tf.Session(graph=graph) as session:\n",
    "        tf.initialize_all_variables().run()\n",
    "        print('Initialized')\n",
    "        for step in range(num_steps):\n",
    "            offset = (step * batch_size) % (train_labels.shape[0] - batch_size)\n",
    "\n",
    "            batch_data = train_dataset[offset:(offset+batch_size), :]\n",
    "            batch_labels = train_labels[offset:(offset+batch_size), :]\n",
    "\n",
    "            feed_dict = {x:batch_data, y_ : batch_labels, beta: reg_rate}\n",
    "\n",
    "            _, l, predictions = session.run([optimizer,loss,train_prediction], feed_dict=feed_dict)\n",
    "\n",
    "            if (step % 500 == 0):\n",
    "                print(\"Minibatch loss at step %d: %f\" % (step, l))\n",
    "                print(\"Minibatch accuracy: %.1f%%\" % accuracy(predictions, batch_labels))\n",
    "                print(\"Validation accuracy: %.1f%%\" % accuracy(\n",
    "                        valid_prediction.eval(), valid_labels))\n",
    "\n",
    "        print(\"Test accuracy: %.1f%%\" % accuracy(test_prediction.eval(), test_labels))"
   ]
  },
  {
   "cell_type": "code",
   "execution_count": 111,
   "metadata": {
    "collapsed": false
   },
   "outputs": [
    {
     "name": "stdout",
     "output_type": "stream",
     "text": [
      "Initialized\n",
      "Minibatch loss at step 0: 866.922607\n",
      "Minibatch accuracy: 10.2%\n",
      "Validation accuracy: 33.7%\n",
      "Minibatch loss at step 500: 232.704849\n",
      "Minibatch accuracy: 74.2%\n",
      "Validation accuracy: 78.9%\n",
      "Minibatch loss at step 1000: 104.344452\n",
      "Minibatch accuracy: 79.7%\n",
      "Validation accuracy: 82.1%\n",
      "Minibatch loss at step 1500: 48.408432\n",
      "Minibatch accuracy: 89.1%\n",
      "Validation accuracy: 84.3%\n",
      "Minibatch loss at step 2000: 22.699335\n",
      "Minibatch accuracy: 89.1%\n",
      "Validation accuracy: 86.0%\n",
      "Minibatch loss at step 2500: 10.881293\n",
      "Minibatch accuracy: 89.1%\n",
      "Validation accuracy: 86.8%\n",
      "Minibatch loss at step 3000: 5.428681\n",
      "Minibatch accuracy: 88.3%\n",
      "Validation accuracy: 86.9%\n",
      "Test accuracy: 93.3%\n"
     ]
    }
   ],
   "source": [
    "num_steps = 3001\n",
    "reg_rate = 0.003025 #0.03125 #  \n",
    "\n",
    "train(num_steps, reg_rate)"
   ]
  },
  {
   "cell_type": "markdown",
   "metadata": {
    "colab_type": "text",
    "id": "na8xX2yHZzNF"
   },
   "source": [
    "---\n",
    "Problem 2\n",
    "---------\n",
    "Let's demonstrate an extreme case of overfitting. Restrict your training data to just a few batches. What happens?\n",
    "\n",
    "---"
   ]
  },
  {
   "cell_type": "code",
   "execution_count": 112,
   "metadata": {
    "collapsed": false
   },
   "outputs": [
    {
     "name": "stdout",
     "output_type": "stream",
     "text": [
      "Initialized\n",
      "Minibatch loss at step 0: 801.417725\n",
      "Minibatch accuracy: 10.9%\n",
      "Validation accuracy: 29.2%\n",
      "Test accuracy: 54.1%\n"
     ]
    }
   ],
   "source": [
    "num_steps = 4\n",
    "reg_rate = 0.003025 #  0.03125\n",
    "\n",
    "train(num_steps, reg_rate)"
   ]
  },
  {
   "cell_type": "markdown",
   "metadata": {},
   "source": [
    "#### Response\n",
    "Final Test Accuracy reduces when training data with just a few batches."
   ]
  },
  {
   "cell_type": "markdown",
   "metadata": {
    "colab_type": "text",
    "id": "ww3SCBUdlkRc"
   },
   "source": [
    "---\n",
    "Problem 3\n",
    "---------\n",
    "Introduce Dropout on the hidden layer of the neural network. Remember: Dropout should only be introduced during training, not evaluation, otherwise your evaluation results would be stochastic as well. TensorFlow provides `nn.dropout()` for that, but you have to make sure it's only inserted during training.\n",
    "\n",
    "What happens to our extreme overfitting case?\n",
    "\n",
    "---"
   ]
  },
  {
   "cell_type": "code",
   "execution_count": 113,
   "metadata": {
    "collapsed": false
   },
   "outputs": [],
   "source": [
    "tf.set_random_seed(27)\n",
    "batch_size = 128\n",
    "\n",
    "n_input = image_size * image_size\n",
    "n_hidden_1 = 1024\n",
    "\n",
    "learning_rate = 0.5\n",
    "\n",
    "graph = tf.Graph()\n",
    "with graph.as_default():\n",
    "    \n",
    "    x = tf.placeholder(tf.float32, [batch_size, n_input])\n",
    "    y_ = tf.placeholder(tf.float32, [batch_size, num_labels])\n",
    "    \n",
    "    beta = tf.placeholder(tf.float32)\n",
    "    keep_prob = tf.placeholder(\"float\")\n",
    "    \n",
    "    weights = {\n",
    "        'h1' : tf.Variable(tf.truncated_normal([n_input, n_hidden_1])),\n",
    "        'out' : tf.Variable(tf.truncated_normal([n_hidden_1, num_labels]))\n",
    "    }\n",
    "    \n",
    "    biases = {\n",
    "        'h1' : tf.Variable(tf.zeros([n_hidden_1])),\n",
    "        'out' : tf.Variable(tf.zeros([num_labels]))\n",
    "    }\n",
    "    \n",
    "    hidden_1 = tf.matmul(x, weights['h1']) + biases['h1']\n",
    "    hidden_l = tf.nn.dropout(tf.nn.relu(hidden_1), keep_prob)\n",
    "    \n",
    "    out_l = tf.matmul(hidden_1, weights['out']) + biases['out']\n",
    "    \n",
    "    reg = beta/2 * (tf.nn.l2_loss(weights['h1']) + tf.nn.l2_loss(biases['h1']) + tf.nn.l2_loss(weights['out'])+ tf.nn.l2_loss(biases['out']))\n",
    "    \n",
    "    loss = tf.reduce_mean(tf.nn.softmax_cross_entropy_with_logits(out_l, y_) +  reg)\n",
    "    optimizer = tf.train.GradientDescentOptimizer(learning_rate=learning_rate).minimize(loss)\n",
    "    \n",
    "    train_prediction = tf.nn.softmax(out_l)\n",
    "    \n",
    "    tf_test_dataset = tf.constant(test_dataset)\n",
    "    tf_valid_dataset = tf.constant(valid_dataset)\n",
    "    \n",
    "    valid_prediction = tf.nn.softmax(\n",
    "\n",
    "        tf.matmul(\n",
    "            tf.nn.relu(\n",
    "                tf.matmul(tf_valid_dataset, weights['h1']) + biases['h1']\n",
    "            ), weights['out']\n",
    "        ) + biases['out']\n",
    "    )\n",
    "    \n",
    "    test_prediction = tf.nn.softmax(\n",
    "\n",
    "        tf.matmul(\n",
    "            tf.nn.relu(\n",
    "                tf.matmul(tf_test_dataset, weights['h1']) + biases['h1']\n",
    "            ), weights['out']\n",
    "        ) + biases['out']\n",
    "    )    "
   ]
  },
  {
   "cell_type": "code",
   "execution_count": 114,
   "metadata": {
    "collapsed": false
   },
   "outputs": [
    {
     "name": "stdout",
     "output_type": "stream",
     "text": [
      "Initialized\n",
      "Minibatch loss at step 0: 950.871826\n",
      "Minibatch accuracy: 10.2%\n",
      "Validation accuracy: 37.9%\n",
      "Minibatch loss at step 500: 230.246597\n",
      "Minibatch accuracy: 67.2%\n",
      "Validation accuracy: 63.6%\n",
      "Minibatch loss at step 1000: 105.724899\n",
      "Minibatch accuracy: 72.7%\n",
      "Validation accuracy: 69.2%\n",
      "Minibatch loss at step 1500: 46.677925\n",
      "Minibatch accuracy: 79.7%\n",
      "Validation accuracy: 67.1%\n",
      "Minibatch loss at step 2000: 21.839909\n",
      "Minibatch accuracy: 78.1%\n",
      "Validation accuracy: 72.9%\n",
      "Minibatch loss at step 2500: 10.486496\n",
      "Minibatch accuracy: 73.4%\n",
      "Validation accuracy: 74.7%\n",
      "Minibatch loss at step 3000: 5.217443\n",
      "Minibatch accuracy: 80.5%\n",
      "Validation accuracy: 78.8%\n",
      "Test accuracy: 86.0%\n"
     ]
    }
   ],
   "source": [
    "# train normal\n",
    "num_steps = 3001\n",
    "reg_rate = 0.003025 #  0.03125\n",
    "\n",
    "train(num_steps, reg_rate)"
   ]
  },
  {
   "cell_type": "code",
   "execution_count": 115,
   "metadata": {
    "collapsed": false
   },
   "outputs": [
    {
     "name": "stdout",
     "output_type": "stream",
     "text": [
      "Initialized\n",
      "Minibatch loss at step 0: 984.442017\n",
      "Minibatch accuracy: 4.7%\n",
      "Validation accuracy: 42.3%\n",
      "Test accuracy: 55.2%\n"
     ]
    }
   ],
   "source": [
    "# train with small sample\n",
    "num_steps = 4\n",
    "reg_rate = 0.003025\n",
    "train(num_steps, reg_rate)"
   ]
  },
  {
   "cell_type": "markdown",
   "metadata": {},
   "source": [
    "#### Result\n",
    "Test accuracy increases in about 20%."
   ]
  },
  {
   "cell_type": "markdown",
   "metadata": {
    "colab_type": "text",
    "id": "-b1hTz3VWZjw"
   },
   "source": [
    "---\n",
    "Problem 4\n",
    "---------\n",
    "\n",
    "Try to get the best performance you can using a multi-layer model! The best reported test accuracy using a deep network is [97.1%](http://yaroslavvb.blogspot.com/2011/09/notmnist-dataset.html?showComment=1391023266211#c8758720086795711595).\n",
    "\n",
    "One avenue you can explore is to add multiple layers.\n",
    "\n",
    "Another one is to use learning rate decay:\n",
    "\n",
    "    global_step = tf.Variable(0)  # count the number of steps taken.\n",
    "    learning_rate = tf.train.exponential_decay(0.5, global_step, ...)\n",
    "    optimizer = tf.train.GradientDescentOptimizer(learning_rate).minimize(loss, global_step=global_step)\n",
    " \n",
    " ---\n"
   ]
  },
  {
   "cell_type": "code",
   "execution_count": 116,
   "metadata": {
    "collapsed": false
   },
   "outputs": [],
   "source": [
    "def calc_prediction(dataset, weights, biases):\n",
    "    \n",
    "    hidden_1 = tf.matmul(dataset, weights['h1']) + biases['h1']\n",
    "    hidden_l = tf.nn.relu(hidden_1)\n",
    "    \n",
    "    hidden_2 = tf.matmul(hidden_1, weights['h2']) + biases['h2']\n",
    "    hidden_2 = tf.nn.relu(hidden_2)\n",
    "    \n",
    "#    hidden_3 = tf.matmul(hidden_2, weights['h3']) + biases['h3']\n",
    "#    hidden_3 = tf.nn.relu(hidden_3)\n",
    "    \n",
    "    out_l = tf.matmul(hidden_2, weights['out']) + biases['out']\n",
    "    \n",
    "    prediction = tf.nn.softmax(out_l)\n",
    "    \n",
    "    return prediction\n",
    "\n",
    "\n",
    "batch_size = 128\n",
    "\n",
    "n_input = image_size * image_size\n",
    "n_hidden_1 = n_hidden_2 = n_hidden_3 = 1024\n",
    "\n",
    "graph = tf.Graph()\n",
    "with graph.as_default():\n",
    "    \n",
    "    x = tf.placeholder(tf.float64, [batch_size, n_input])\n",
    "    y_ = tf.placeholder(tf.float64, [batch_size, num_labels])\n",
    "    \n",
    "    beta = tf.placeholder(tf.float64)\n",
    "    \n",
    "    weights = {\n",
    "        'h1' : tf.Variable(tf.truncated_normal([n_input, n_hidden_1],dtype=tf.float64)),\n",
    "        'h2' : tf.Variable(tf.truncated_normal([n_hidden_1, n_hidden_2],dtype=tf.float64)),\n",
    "#        'h3' : tf.Variable(tf.truncated_normal([n_hidden_2, n_hidden_3],dtype=tf.float64)),        \n",
    "        'out' : tf.Variable(tf.truncated_normal([n_hidden_2, num_labels],dtype=tf.float64))\n",
    "    }\n",
    "    \n",
    "    biases = {\n",
    "        'h1' : tf.Variable(tf.zeros([n_hidden_1],tf.float64)),\n",
    "        'h2' : tf.Variable(tf.zeros([n_hidden_2],tf.float64)),\n",
    "#        'h3' : tf.Variable(tf.zeros([n_hidden_3],tf.float64)),        \n",
    "        'out' : tf.Variable(tf.zeros([num_labels],tf.float64))\n",
    "    }\n",
    "    \n",
    "    hidden_1 = tf.matmul(x, weights['h1']) + biases['h1']\n",
    "    hidden_l = tf.nn.relu(hidden_1)\n",
    "    \n",
    "    hidden_2 = tf.matmul(hidden_1, weights['h2']) + biases['h2']\n",
    "    hidden_2 = tf.nn.relu(hidden_2)\n",
    "    \n",
    "#    hidden_3 = tf.matmul(hidden_2, weights['h3']) + biases['h3']\n",
    "#    hidden_3 = tf.nn.relu(hidden_3)\n",
    "    \n",
    "    out_l = tf.matmul(hidden_2, weights['out']) + biases['out']\n",
    "    \n",
    "    loss = tf.reduce_mean(tf.nn.softmax_cross_entropy_with_logits(out_l, y_) + (\n",
    "                         beta/2 * (tf.nn.l2_loss(weights['h1']) + tf.nn.l2_loss(biases['h1']) +\n",
    "                                   tf.nn.l2_loss(weights['h2']) + tf.nn.l2_loss(biases['h2']) +\n",
    " #                                  tf.nn.l2_loss(weights['h3']) + tf.nn.l2_loss(biases['h3']) +\n",
    "                                   tf.nn.l2_loss(weights['out']) + tf.nn.l2_loss(biases['out'])\n",
    "                         )))\n",
    "    \n",
    "    optimizer = tf.train.GradientDescentOptimizer(learning_rate=0.003).minimize(loss)\n",
    "    \n",
    "    train_prediction = tf.nn.softmax(out_l)\n",
    "    \n",
    "    tf_test_dataset = tf.constant(test_dataset, dtype=tf.float64)\n",
    "    tf_valid_dataset = tf.constant(valid_dataset, dtype=tf.float64)\n",
    "    \n",
    "    valid_prediction = calc_prediction(tf_valid_dataset, weights, biases)\n",
    "    test_prediction = calc_prediction(tf_test_dataset, weights, biases)    "
   ]
  },
  {
   "cell_type": "code",
   "execution_count": 117,
   "metadata": {
    "collapsed": false,
    "scrolled": true
   },
   "outputs": [
    {
     "name": "stdout",
     "output_type": "stream",
     "text": [
      "Initialized\n",
      "Minibatch loss at step 0: 8742.438634\n",
      "Minibatch accuracy: 18.8%\n",
      "Validation accuracy: 22.9%\n",
      "Minibatch loss at step 500: 1647.674304\n",
      "Minibatch accuracy: 82.0%\n",
      "Validation accuracy: 81.0%\n",
      "Minibatch loss at step 1000: 1558.933030\n",
      "Minibatch accuracy: 81.2%\n",
      "Validation accuracy: 81.0%\n",
      "Minibatch loss at step 1500: 1299.735235\n",
      "Minibatch accuracy: 87.5%\n",
      "Validation accuracy: 81.8%\n",
      "Minibatch loss at step 2000: 1180.242064\n",
      "Minibatch accuracy: 90.6%\n",
      "Validation accuracy: 84.0%\n",
      "Minibatch loss at step 2500: 1242.621355\n",
      "Minibatch accuracy: 84.4%\n",
      "Validation accuracy: 84.3%\n",
      "Minibatch loss at step 3000: 1197.712323\n",
      "Minibatch accuracy: 82.8%\n",
      "Validation accuracy: 84.7%\n",
      "Test accuracy: 91.7%\n"
     ]
    }
   ],
   "source": [
    "# train normal\n",
    "num_steps = 3001\n",
    "reg_rate = 0.0030 #  0.03125\n",
    "\n",
    "train(num_steps, reg_rate)"
   ]
  },
  {
   "cell_type": "markdown",
   "metadata": {},
   "source": [
    "Highest accuracy acquired with a multi layer NN was 91.7%, lower than with a single hidden layer NN."
   ]
  }
 ],
 "metadata": {
  "colab": {
   "default_view": {},
   "name": "3_regularization.ipynb",
   "provenance": [],
   "version": "0.3.2",
   "views": {}
  },
  "kernelspec": {
   "display_name": "Python 2",
   "language": "python",
   "name": "python2"
  },
  "language_info": {
   "codemirror_mode": {
    "name": "ipython",
    "version": 2
   },
   "file_extension": ".py",
   "mimetype": "text/x-python",
   "name": "python",
   "nbconvert_exporter": "python",
   "pygments_lexer": "ipython2",
   "version": "2.7.11"
  }
 },
 "nbformat": 4,
 "nbformat_minor": 0
}
